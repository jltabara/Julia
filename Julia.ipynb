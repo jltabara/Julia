{
 "metadata": {
  "language": "Julia",
  "name": "",
  "signature": "sha256:41addd95ee9de7166c8db6baabc789426896aab5340daa2606f2485671319bf1"
 },
 "nbformat": 3,
 "nbformat_minor": 0,
 "worksheets": [
  {
   "cells": [
    {
     "cell_type": "markdown",
     "metadata": {},
     "source": [
      "##<div class=\"alert alert-success\">Operaciones con n\u00fameros</div>"
     ]
    },
    {
     "cell_type": "markdown",
     "metadata": {},
     "source": [
      "**Operaciones con n\u00fameros enteros.** Para realizar las operaciones habituales con n\u00fameros enteros se utilizan los operadores +, -, \\*, /."
     ]
    },
    {
     "cell_type": "markdown",
     "metadata": {},
     "source": [
      "**Jerarqu\u00eda de operaciones y par\u00e9ntesis.** El orden de las operaciones en Julia es el habitual en matem\u00e1ticas. Esto es, las potencias se realizan antes, despu\u00e9s las multiplicaciones y divisiones y finalmente las sumas y las restas. Si queremos variar este orden debemos emplear los par\u00e9ntesis. No se pueden usar corchetes para cambiar la jerarqu\u00eda de operaciones."
     ]
    },
    {
     "cell_type": "markdown",
     "metadata": {},
     "source": [
      "**Operaciones con n\u00fameros decimales.** El separador de decimales es el punto y los operadores son los mismos que para enteros."
     ]
    },
    {
     "cell_type": "markdown",
     "metadata": {},
     "source": [
      "**Los n\u00fameros en notaci\u00f3n cient\u00edfica.** La parte decimal y la del exponente se separan por una letra **e** (may\u00fascula o min\u00fascula)."
     ]
    },
    {
     "cell_type": "markdown",
     "metadata": {},
     "source": [
      "**La potencia.** En Julia la potencia se calcula con el circunflejo. El exponente puede ser un n\u00famero entero o tambi\u00e9n decimal. Las potencias de n\u00fameros enteros pueden presentar problemas."
     ]
    },
    {
     "cell_type": "markdown",
     "metadata": {},
     "source": [
      "**Las ra\u00edces.** Para calcular ra\u00edces cuadradas empleamos la funci\u00f3n **sqrt** y para la ra\u00edz c\u00fabica la funci\u00f3n **cbrt**. Para el resto de las ra\u00edces, las escribimos en forma de potencia, teniendo en cuenta que $\\sqrt[n]{x}=x^{\\frac{1}{n}}$. En principio, no calcula las ra\u00edces cuadradas de n\u00fameros negativos."
     ]
    },
    {
     "cell_type": "markdown",
     "metadata": {},
     "source": [
      "##<div class=\"alert alert-success\">Variables</div>"
     ]
    },
    {
     "cell_type": "markdown",
     "metadata": {},
     "source": [
      "**Uso de las variables.** Las variables se pueden usar para guardar resultados que posteriormente queremos reutilizar. Los nombres de las variables pueden emplear letras, n\u00fameros, el caracter de subrayado y algunos caracteres m\u00e1s. Para asignar un valor a una variable se emplea el signo **=**."
     ]
    },
    {
     "cell_type": "markdown",
     "metadata": {},
     "source": [
      "**Operaciones en la parte derecha de la asignaci\u00f3n.** Si en la parte derecha de una asignaci\u00f3n existe una operaci\u00f3n, \u00e9sta se realiza y despu\u00e9s se guarda en memoria."
     ]
    },
    {
     "cell_type": "markdown",
     "metadata": {},
     "source": [
      "**Variables no inicializadas.** Inicializar una variable es asignarle un valor. Si se llama a una variable a la que no se le ha asociado ning\u00fan valor, se produce un error."
     ]
    },
    {
     "cell_type": "markdown",
     "metadata": {},
     "source": [
      "**Diferencias entre may\u00fasculas y min\u00fasculas en las variables.** Julia es lo que en ingl\u00e9s se denomina *case-sensitive* y por lo tanto diferencia entre may\u00fasculas y min\u00fasculas."
     ]
    },
    {
     "cell_type": "markdown",
     "metadata": {},
     "source": [
      "**Las variables pi y e.** Aunque estos nombres se pueden utilizar para guardar cualquier dato, por defecto las variables est\u00e1n asignadas a los n\u00fameros $\\pi$ y $e$."
     ]
    },
    {
     "cell_type": "markdown",
     "metadata": {},
     "source": [
      "**Los nombres de las variables no pueden empezar por n\u00fameros.** Est\u00e1 prohibido por la sintaxis del lenguaje que las variables empiecen por un car\u00e1cter num\u00e9rico. Si pueden contener n\u00fameros en otras partes del nombre."
     ]
    },
    {
     "cell_type": "markdown",
     "metadata": {},
     "source": [
      "**Uso del punto y coma.** Si queremos que alguna operaci\u00f3n se realice pero que el resultado no aparezca en pantalla, pondremos un punto y coma al final de la operaci\u00f3n."
     ]
    },
    {
     "cell_type": "markdown",
     "metadata": {},
     "source": [
      "**La variable ans.** La variable *ans* siempre guarda el \u00faltimo c\u00e1lculo realizado."
     ]
    },
    {
     "cell_type": "markdown",
     "metadata": {},
     "source": [
      "##<div class=\"alert alert-success\">Tipos de datos</div>"
     ]
    },
    {
     "cell_type": "markdown",
     "metadata": {},
     "source": [
      "**El tipo de un dato.** Todos los datos num\u00e9ricos tienen asociado un tipo de dato. Por ejemplo, los n\u00fameros enteros est\u00e1n asociados al tipo *int* (aunque hay gran variedad de ellos) y los decimales est\u00e1n asociados a diversos tipos *float*. Para consultar el tipo de dato se emplea la funci\u00f3n **typeof**."
     ]
    },
    {
     "cell_type": "markdown",
     "metadata": {},
     "source": [
      "**El m\u00e1ximo n\u00famero de tipo Int**. No cualquier n\u00famero entero es tratado por Julia como un dato de tipo *Int*. El mayor y el menor de los n\u00fameros se puede obtener con **typemin** y **typemax**."
     ]
    },
    {
     "cell_type": "markdown",
     "metadata": {},
     "source": [
      "**Aritm\u00e9tica de precisi\u00f3n infinita y el tipo BigInt.** Para representar n\u00fameros enteros arbitrariamente grandes debemos utilizar el tipo **BigInt**. Para construir un dato podemos utilizarla funci\u00f3n **BigInt** y suministrarle el n\u00famero entero entre comillas."
     ]
    },
    {
     "cell_type": "markdown",
     "metadata": {},
     "source": [
      "**C\u00e1lculo de potencias enteras o factoriales que superen el tipo m\u00e1ximo.** Si el resultado de una operaci\u00f3n con enteros supera la capacidad de la m\u00e1quina (esto suele suceder al calcular potencias y factoriales), Julia da un resultado incorrecto. Esto se conoce como *desbordamiento* o *overflow*. Para solucionarlo debemos convertir los n\u00fameros necesarios a tipo BigInt. Para ello lo m\u00e1s c\u00f3modo suele ser utilizar la funci\u00f3n **big**."
     ]
    },
    {
     "cell_type": "markdown",
     "metadata": {},
     "source": [
      "##<div class=\"alert alert-success\">N\u00fameros en otras bases</div>"
     ]
    },
    {
     "cell_type": "markdown",
     "metadata": {},
     "source": [
      "**Los n\u00fameros en notaci\u00f3n hexadecimal.** Para introducir un n\u00famero en notaci\u00f3n hexadecimal escribimos **0x** delante del n\u00famero. Podemos utilizar las cifras decimales y las letras de la \"a\" a la \"f\" (valen may\u00fasculas y min\u00fasculas) para escribir el n\u00famero. Si queremos el n\u00famero en notaci\u00f3n decimal podemos obtenerlo con la funci\u00f3n **dec** o con la funci\u00f3n **int**."
     ]
    },
    {
     "cell_type": "markdown",
     "metadata": {},
     "source": [
      "**Los n\u00fameros binarios.** Se escribe el prefijo **0b** delante."
     ]
    },
    {
     "cell_type": "markdown",
     "metadata": {},
     "source": [
      "**Convertir n\u00fameros a binario, octal, decimal y hexadecimal**. Para convertir enteros entre bases utilizamos las funciones **bin**, **oct**, **dec** y **hex**. El resultado es una cadena de texto o *string* y no se puede operar con ella."
     ]
    },
    {
     "cell_type": "markdown",
     "metadata": {},
     "source": [
      "**Convertir a otras bases.** Para convertir a otras bases distintas utilizamos la funci\u00f3n **base**, que posee dos argumentos: el primero es la base a la que deseamos convertir el n\u00famero y el segundo el n\u00famero que deseamos transformar. "
     ]
    },
    {
     "cell_type": "markdown",
     "metadata": {},
     "source": [
      "##<div class=\"alert alert-success\">Las variables Inf y NaN</div>"
     ]
    },
    {
     "cell_type": "markdown",
     "metadata": {},
     "source": [
      "**La variable Inf.** La constante **Inf** se comporta, a nivel de operaciones aritm\u00e9ticas, como el infinito matem\u00e1tico. Por ejemplo, la conocida frase \"un n\u00famero dividido entre cero es infinito\" se puede calcular en Julia."
     ]
    },
    {
     "cell_type": "markdown",
     "metadata": {},
     "source": [
      "**La variable NaN.** La variable **NaN** se comporta como el concepto de indeterminaci\u00f3n matem\u00e1tica. Por ejemplo, en matem\u00e1ticas decimos: \"infinito menos infinito es una indeterminaci\u00f3n\". En Julia el resultado es NaN."
     ]
    },
    {
     "cell_type": "markdown",
     "metadata": {},
     "source": [
      "##<div class=\"alert alert-success\">Los operadores de comparaci\u00f3n</div>"
     ]
    },
    {
     "cell_type": "markdown",
     "metadata": {},
     "source": [
      "**Igual y distinto.** Para comprobar si dos n\u00fameros son iguales se emplea el doble signo igual (**==**). Si los n\u00fameros son iguales devuelve **true** y **false** en caso contrario. El operador **!=** devuelve **true** cuando los n\u00fameros son distintos. Se pueden comparar n\u00fameros de distinto tipo."
     ]
    },
    {
     "cell_type": "markdown",
     "metadata": {},
     "source": [
      "**Los operadores de orden.** Para saber el orden en que est\u00e1n colocados los n\u00fameros en la recta real, se emplean los operadores **<**, **>**, **<=** y **>=**, siendo su significado el habitual en m\u00e1tem\u00e1ticas."
     ]
    },
    {
     "cell_type": "markdown",
     "metadata": {},
     "source": [
      "**El infinito y las operadores de orden.** La variable **Inf** es mayor que cualquier n\u00famero."
     ]
    },
    {
     "cell_type": "markdown",
     "metadata": {},
     "source": [
      "##<div class=\"alert alert-success\">Divisibilidad</div>"
     ]
    },
    {
     "cell_type": "markdown",
     "metadata": {},
     "source": [
      "**La divisi\u00f3n entera.** Existen muchas formas de calcular el cociente y el resto de una divisi\u00f3n entera. Para calcular el cociente utilizamos la funci\u00f3n **div** a la que debemos facilitarle el dividendo y el divisor. Para obtener el resto podemos emplear la funci\u00f3n **rem** o tambi\u00e9n el operador m\u00f3dulo (**%**). Si queremos obtener ambos a la vez podemos usar la funci\u00f3n **divrem**."
     ]
    },
    {
     "cell_type": "markdown",
     "metadata": {},
     "source": [
      "**La factorizaci\u00f3n de n\u00fameros enteros.** Julia puede descomponer en factores primos los n\u00fameros enteros utilizando la funci\u00f3n **factor**. La salida de esta funci\u00f3n no es similar a lo que estamos acostumbrados en matem\u00e1ticas (es lo que en Julia se denomina un diccionario)."
     ]
    },
    {
     "cell_type": "markdown",
     "metadata": {},
     "source": [
      "**El mcd y el mcm.** Estos se calculan con las funciones **gcd** y **lcm** que son las iniciales inglesas correspondientes a las nuestras castellanas. Admiten dos o m\u00e1s n\u00fameros enteros como argumentos."
     ]
    },
    {
     "cell_type": "markdown",
     "metadata": {},
     "source": [
      "**Los numeros primos.** Para saber si un n\u00famero es primo o no lo es, empleamos la funci\u00f3n **isprime**. El resultado es *true* si el n\u00famero es primo y *false* si no lo es."
     ]
    },
    {
     "cell_type": "markdown",
     "metadata": {},
     "source": [
      "##<div class=\"alert alert-success\">Las funciones de redondeo</div>"
     ]
    },
    {
     "cell_type": "markdown",
     "metadata": {},
     "source": [
      "**Redondear con distintas cifras decimales.** La funci\u00f3n **round** redondea n\u00fameros decimales. Tiene dos argumentos, siendo el segundo opcional. El primero es el n\u00famero que queremos redondear, y el segundo el n\u00famero de decimales de la aproximaci\u00f3n."
     ]
    },
    {
     "cell_type": "markdown",
     "metadata": {},
     "source": [
      "**Las funciones floor y ceil.** La funci\u00f3n **floor** redondea por defecto y la funci\u00f3n **ceil** por exceso. Tambi\u00e9n admite un segundo argumento a semejanza de **round**. Si les ponemos una \"i\" delante se transforman en funciones que devuelven un n\u00famero entero. En este \u00faltimo caso solamente admiten un argumento."
     ]
    },
    {
     "cell_type": "markdown",
     "metadata": {},
     "source": [
      "##<div class=\"alert alert-success\">Las funciones trigonom\u00e9tricas</div>"
     ]
    },
    {
     "cell_type": "markdown",
     "metadata": {},
     "source": [
      "**Las funciones directas en radianes.** Las funciones **sin**, **cos**, y **tan** realizan c\u00e1lculos trigonom\u00e9tricos suponiendo que el argumento est\u00e1 dado en radianes. Como trabajan con aritm\u00e9tica no exacta se produce algunos errores de redondeo."
     ]
    },
    {
     "cell_type": "markdown",
     "metadata": {},
     "source": [
      "**Las funciones en grados.** Si a\u00f1adimos una \"d\" a las funciones trigonom\u00e9tricas, Julia sabe que el argumento que le facilitamos est\u00e1 dado en grados."
     ]
    },
    {
     "cell_type": "markdown",
     "metadata": {},
     "source": [
      "**Conversi\u00f3n entre grados y radianes.** Las funciones **radians2degrees** y **degrees2radians** hacen lo que indica su nombre."
     ]
    },
    {
     "cell_type": "markdown",
     "metadata": {},
     "source": [
      "**Las funciones inversas.** Las funciones inversas llevan una \"a\" delante. Devuelven el resultado en radianes. Si llevan una \"d\" al final devuelven el resultado en grados."
     ]
    },
    {
     "cell_type": "markdown",
     "metadata": {},
     "source": [
      "**Las funciones hiperb\u00f3licas.** Como es habitual terminan con la letra \"h\" y las inversas comienzan por \"a\"."
     ]
    },
    {
     "cell_type": "markdown",
     "metadata": {},
     "source": [
      "##<div class=\"alert alert-success\">Las funciones exponenciales y logar\u00edtmicas</div>"
     ]
    },
    {
     "cell_type": "markdown",
     "metadata": {},
     "source": [
      "**La funci\u00f3n exponencial.** La funci\u00f3n **exp** calcula el resultado de elevar el n\u00famero **e** a la potencia indicada. Las funciones **exp2** y **exp10** calculan $2^x$ y $10^x$."
     ]
    },
    {
     "cell_type": "markdown",
     "metadata": {},
     "source": [
      "**Los logaritmos.** La funci\u00f3n **log** calcula el logaritmo neperiano. Las funciones **log2** y **log10** calculan los logaritmos en base 2 y 10. La funci\u00f3n **log** puede admitir dos argumentos. En este caso el primer argumento es la base y el segundo el n\u00famero al que le calculamos el logaritmo."
     ]
    },
    {
     "cell_type": "markdown",
     "metadata": {},
     "source": [
      "##<div class=\"alert alert-success\">N\u00fameros aleatorios</div>"
     ]
    },
    {
     "cell_type": "markdown",
     "metadata": {},
     "source": [
      "**N\u00fameros aleatorios con distribuci\u00f3n uniforme.** La funci\u00f3n **rand** devuelve un n\u00famero aleatorio en el intervalo desde 0 hasta 1. Para generar un n\u00famero entero aleatorio entre $n$ y $m$ (ambos incluidos) debemos escribir como argumento $n:m$."
     ]
    },
    {
     "cell_type": "markdown",
     "metadata": {},
     "source": [
      "**N\u00fameros aleatorios con distribuci\u00f3n normal.** La funci\u00f3n **randn** devuelve un n\u00famero aleatorio que sigue una distribuci\u00f3n normal de media 0 y desviaci\u00f3n t\u00edpica 1."
     ]
    },
    {
     "cell_type": "markdown",
     "metadata": {},
     "source": [
      "**Vectores y matrices de n\u00fameros aleatorios.** Si le a\u00f1adimos m\u00e1s par\u00e1metros a la funciones generadoras de n\u00fameros aletorios, se pueden construir lo que en programaci\u00f3n se llaman *arrays* de n\u00fameros aleatorios."
     ]
    },
    {
     "cell_type": "markdown",
     "metadata": {},
     "source": [
      "##<div class=\"alert alert-success\">Los n\u00fameros complejos</div>"
     ]
    },
    {
     "cell_type": "markdown",
     "metadata": {},
     "source": [
      "**Construcci\u00f3n de n\u00fameros complejos.** Los n\u00fameros complejos se pueden construir con la funci\u00f3n **complex**, o bien escribir el complejo en forma bin\u00f3mica, teniendo en cuenta que la unidad imaginaria se denota **im**."
     ]
    },
    {
     "cell_type": "markdown",
     "metadata": {},
     "source": [
      "**Operaciones con n\u00fameros complejos.** Se realizan con los mismos operadores que se usan para otros n\u00fameros."
     ]
    },
    {
     "cell_type": "markdown",
     "metadata": {},
     "source": [
      "**Partes real, imaginaria, m\u00f3dulo, conjugado y \u00e1ngulo.** Las funciones son: **real**, **imag**, **abs**, **conj**, **angle**. La funci\u00f3n **abs2** calcula el cuadrado del m\u00f3dulo."
     ]
    },
    {
     "cell_type": "markdown",
     "metadata": {},
     "source": [
      "**Las funciones habituales.** Las funciones habituales se pueden aplicar a n\u00fameros complejos. A veces debemos escribir el n\u00famero real $x$ en la forma $x+0im$ para que Julia sea capaz de realizar el c\u00e1lculo."
     ]
    },
    {
     "cell_type": "markdown",
     "metadata": {},
     "source": [
      "##<div class=\"alert alert-success\">Las fracciones</div>"
     ]
    },
    {
     "cell_type": "markdown",
     "metadata": {},
     "source": [
      "**Escritura de fracciones.** Para escribir una fracci\u00f3n se utiliza la doble barra. El resultado es la fracci\u00f3n simplificada. Tambi\u00e9n se puede utilizar la funci\u00f3n **Rational**."
     ]
    },
    {
     "cell_type": "markdown",
     "metadata": {},
     "source": [
      "**Operaciones con fracciones.** Se realizan del mismo modo que con cualquier otro tipo de n\u00fameros."
     ]
    },
    {
     "cell_type": "markdown",
     "metadata": {},
     "source": [
      "**Operaciones con otros tipos de n\u00fameros.** Si en las operaciones utilizamos fracciones y n\u00fameros enteros, el resultado nos lo devuelve como fracci\u00f3n. Pero si hay alg\u00fan n\u00famero decimal en la operaci\u00f3n nos devuelve n\u00fameros decimales. Para convertir el resultado a n\u00famero decimal podemos utilizar la funci\u00f3n **float**."
     ]
    },
    {
     "cell_type": "markdown",
     "metadata": {},
     "source": [
      "**El numerador, el denominador y las comparaciones.** Para obtener el numerador (de la fracci\u00f3n simplificada) se emplea la funci\u00f3n **num** y para el denominador la funci\u00f3n **den**. Los operadores de comparaci\u00f3n son los habituales."
     ]
    },
    {
     "cell_type": "markdown",
     "metadata": {},
     "source": [
      "##<div class=\"alert alert-success\">Estad\u00edstica descriptiva</div>"
     ]
    },
    {
     "cell_type": "markdown",
     "metadata": {},
     "source": [
      "**El vector de datos.** Los datos en Julia se deben introducir en forma de *array* (o arreglo, en espa\u00f1ol). Para ello escribimos los datos entre corchetes y separados por comas. Podemos utilizar el punto y coma para evitar que nos devuelva el resultado."
     ]
    },
    {
     "cell_type": "markdown",
     "metadata": {},
     "source": [
      "**Media, mediana, varianza y desviaci\u00f3n t\u00edpica.** Las funciones que calculan estos par\u00e1metros estad\u00edsticos son: **mean**, **median**, **var** y **sdt**. La desviaci\u00f3n t\u00edpica y la varianza son muestrales, lo que quiere decir que se dividen por $n-1$."
     ]
    },
    {
     "cell_type": "markdown",
     "metadata": {},
     "source": [
      "**Covarianza y correlaci\u00f3n de dos vectores.** Si los vectores son del mismo tama\u00f1o, **cov** calcula la covarianza y **cor** el coeficiente de correlaci\u00f3n de Pearson."
     ]
    },
    {
     "cell_type": "markdown",
     "metadata": {},
     "source": [
      "##<div class=\"alert alert-success\">Vectores y operaciones</div>"
     ]
    },
    {
     "cell_type": "markdown",
     "metadata": {},
     "source": [
      "**Introducci\u00f3n de vectores fila y columna.** Para introducir vectores filas los encerramos entre corchetes y separamos los valores por espacios en blanco. Para construir vectores columna tambi\u00e9n empleamos corchetes, pero separamos los valores por comas. En principio siempre utilizaremos vectores columna para los c\u00e1lculos m\u00e1tem\u00e1ticos."
     ]
    },
    {
     "cell_type": "markdown",
     "metadata": {},
     "source": [
      "**Combinaciones lineales de vectores.** Las combinaciones lineales de vectores se realizan del modo habitual en matem\u00e1ticas."
     ]
    },
    {
     "cell_type": "markdown",
     "metadata": {},
     "source": [
      "**Producto escalar y vectorial.** El producto escalar se calcula con la funci\u00f3n **dot** y el producto escalar con la funci\u00f3n **cross**."
     ]
    },
    {
     "cell_type": "markdown",
     "metadata": {},
     "source": [
      "**M\u00f3dulo o norma de un vector.** La norma de un vector se calcula con la funci\u00f3n **norm**."
     ]
    },
    {
     "cell_type": "markdown",
     "metadata": {},
     "source": [
      "**Rango.** Para generar rangos se utiliza la notaci\u00f3n \"dos puntos\". Tambi\u00e9n se pueden generar rangos con **linspace**."
     ]
    },
    {
     "cell_type": "markdown",
     "metadata": {},
     "source": [
      "**Funciones vectorizadas.** Si le aplicamos una funci\u00f3n a un array, entonces nos devuelve un array donde se ha aplicado la funci\u00f3n a cada una de las entradas."
     ]
    },
    {
     "cell_type": "markdown",
     "metadata": {},
     "source": [
      "##<div class=\"alert alert-success\">Matrices: operaciones y no singularidad</div>"
     ]
    },
    {
     "cell_type": "markdown",
     "metadata": {},
     "source": [
      "**Introducci\u00f3n de matrices.** Las matrices se introducen por filas. Los elemento de las filas se separan por espacios en blanco. Para pasar a la fila siguiente escribimos un punto y coma."
     ]
    },
    {
     "cell_type": "markdown",
     "metadata": {},
     "source": [
      "**Matrices de ceros, unos y la identidad.** Para construir la matriz con todas las entradas igual a cero se utiliza la funci\u00f3n **zeros**. Le informamos del tama\u00f1o de la matriz mediante dos argumentos. Para la matriz con unos en todas las entradas empleamos **ones** y para la matriz identidad **eye**. Podemos, de manera optativa, indicar el tipo de dato."
     ]
    },
    {
     "cell_type": "markdown",
     "metadata": {},
     "source": [
      "**Traspuesta.** Se calcula con la funci\u00f3n **transpose** o tambi\u00e9n con **.'**."
     ]
    },
    {
     "cell_type": "markdown",
     "metadata": {},
     "source": [
      "**Operaciones con matrices.** Las operaciones de suma, resta, multiplicaci\u00f3n matricial y multiplicaci\u00f3n por un escalar se realizan con los operadores +, - y \\*. Naturalmente si los tama\u00f1os no son compatibles para la multiplicaci\u00f3n se produce un error."
     ]
    },
    {
     "cell_type": "markdown",
     "metadata": {},
     "source": [
      "**Traza, determinante y rango.** Se calculan con las funciones **trace**, **det** y **rank**, siempre que tenga sentido sobre la matriz."
     ]
    },
    {
     "cell_type": "markdown",
     "metadata": {},
     "source": [
      "**Inversa.** La inversa se calcula con la funci\u00f3n **inv**. Se puede comprobar que es la inversa multiplicando por la matriz original. Se producen errores de redondeo inherentes al c\u00e1lculo num\u00e9rico utilizado."
     ]
    },
    {
     "cell_type": "markdown",
     "metadata": {},
     "source": [
      "**Potencias de una matriz.** Las potencias de una matriz cuadrada se calculan con el circunflejo. En particular la inversa se puede calcular elevando la matriz a $-1$."
     ]
    },
    {
     "cell_type": "markdown",
     "metadata": {},
     "source": [
      "**Las operaciones componente a componente.** Si delante de una operaci\u00f3n entre matrices colocamos un punto, la operaci\u00f3n se realiza componente a componente. Esto es \u00fatil sobre todo para la multiplicaci\u00f3n y para las potencias."
     ]
    },
    {
     "cell_type": "markdown",
     "metadata": {},
     "source": [
      "##<div class=\"alert alert-success\">Diagonalizaci\u00f3n de matrices y factorizaci\u00f3n.</div>"
     ]
    },
    {
     "cell_type": "markdown",
     "metadata": {},
     "source": [
      "**Autovalores y autovectores.** Para obtener los autovalores se emplea la funci\u00f3n **eigvals** y para obtener los autovectores empleamos **eigvecs**. Podemos obtener ambos resultados con **eig**."
     ]
    },
    {
     "cell_type": "markdown",
     "metadata": {},
     "source": [
      "**Reducci\u00f3n gaussiana.** Se emplea la funci\u00f3n **rref**."
     ]
    },
    {
     "cell_type": "markdown",
     "metadata": {},
     "source": [
      "**Factorizaci\u00f3n LU.** Se utiliza la funci\u00f3n **lu**. Devuelve una pareja de matrices. Dichas matrices se pueden guardar en variables para su uso posterior o bien utilizar la notaci\u00f3n de \u00edndices para extraer cada una de las matrices."
     ]
    },
    {
     "cell_type": "markdown",
     "metadata": {},
     "source": [
      "##<div class=\"alert alert-success\">Extracci\u00f3n de submatrices</div>"
     ]
    },
    {
     "cell_type": "markdown",
     "metadata": {},
     "source": [
      "**Componentes de una matriz o vector.** Para extraer una posici\u00f3n de una matriz o un vector se utilizan los corchetes. De esta forma se puede tambi\u00e9n cambiar el valor de una entrada espec\u00edfica. Los \u00edndices en Julia empiezan en 1. El \u00faltimo \u00edndice se denota por **end**."
     ]
    },
    {
     "cell_type": "markdown",
     "metadata": {},
     "source": [
      "**Partes de un vector.** Se emplea la notaci\u00f3n \"dos puntos\" (llamada *slicing* en ingl\u00e9s), para efectuar \"cortes\" en el vector."
     ]
    },
    {
     "cell_type": "markdown",
     "metadata": {},
     "source": [
      "##<div class=\"alert alert-success\">Operadores Booleanos</div>"
     ]
    },
    {
     "cell_type": "markdown",
     "metadata": {},
     "source": [
      "**Los valores booleanos \"true\" y \"false\".** Los valores booleanos se escriben en min\u00fascula y se traducen al espa\u00f1ol como *verdadero* y *falso*. Cumplen las reglas del \u00e1lgebra de Boole. Para crear un vector o *array* de valores booleanos se encierran entre corchetes. Para generar *arrays* con valores aleatorios se emplea la funci\u00f3n **randbool**."
     ]
    },
    {
     "cell_type": "markdown",
     "metadata": {},
     "source": [
      "**Funciones y operaciones que devuelven valores booleanos.**  Muchas funciones y operaciones devuelven como resultado un valor booleanos. Pr\u00e1ticamente todas las funciones que comienzan por \"is\" devuelven valores booleanos. Las comparaciones de n\u00fameros tambi\u00e9n tienen valores booleanos."
     ]
    },
    {
     "cell_type": "markdown",
     "metadata": {},
     "source": [
      "**Los operadores de negaci\u00f3n, conjunci\u00f3n y disyunci\u00f3n.** Los operadores son **!**, **&&** y **||**."
     ]
    },
    {
     "cell_type": "markdown",
     "metadata": {},
     "source": [
      "##<div class=\"alert alert-success\">La sentencia condicional</div>"
     ]
    },
    {
     "cell_type": "markdown",
     "metadata": {},
     "source": [
      "**La sentencia \"if\" de control de flujo.** Esta sentencia es similar en todos los lenguajes de programaci\u00f3n. Tenemos que comprobar una condici\u00f3n *booleana* (que es una expresi\u00f3n que puede devolver \u00fanicamente *true* o *false*. Si la condici\u00f3n es verdadera entonces se ejecutan todas las acciones hasta que encuentra la palabra reservada **end**. En caso de que sea falso, no se ejecuta nada."
     ]
    },
    {
     "cell_type": "markdown",
     "metadata": {},
     "source": [
      "**La sentencia \"if ... else\"\".** En este caso se pueden ejecutar dos acciones: si la condici\u00f3n es verdadera, se ejecuta la primera. En caso de que la condici\u00f3n sea falsa, se ejecuta la segunda, que es precisamente la que escribimos entre **else** y **end**."
     ]
    },
    {
     "cell_type": "markdown",
     "metadata": {},
     "source": [
      "##<div class=\"alert alert-success\">El bucle \"for\"</div>"
     ]
    },
    {
     "cell_type": "markdown",
     "metadata": {},
     "source": [
      "**El bucle for tiene un n\u00famero predeterminado de ejecuciones.** El bucle **for** se emplea cuando sabemos exactamente el n\u00famero de veces que se va a ejecutar el bucle. En su formato m\u00e1s simple el bucle for recorre un vector y ejecuta el c\u00f3digo tantas veces como elementos tengo el vector. Si es necesario podemos emplear la sentencia **break** para abortar el bucle. Es costumbre indentar el c\u00f3digo aunque en Julia no es necesario."
     ]
    },
    {
     "cell_type": "markdown",
     "metadata": {},
     "source": [
      "##<div class=\"alert alert-success\">El bucle \"while\"</div>"
     ]
    },
    {
     "cell_type": "markdown",
     "metadata": {},
     "source": [
      "##<div class=\"alert alert-success\">Definici\u00f3n de funciones</div>"
     ]
    },
    {
     "cell_type": "markdown",
     "metadata": {},
     "source": [
      "**Creaci\u00f3n de funciones sencillas.** Para crear funciones sencillas se puede utilizar una notaci\u00f3n similar a la que se emplea en matem\u00e1ticas, poniendo el nombre de la funci\u00f3n, seguido de los argumentos y tras un igual la definici\u00f3n de la funci\u00f3n."
     ]
    },
    {
     "cell_type": "markdown",
     "metadata": {},
     "source": [
      "**Creaci\u00f3n de funciones con function ... end.** Cuando las funciones son m\u00e1s complicadas se suele utilizar otra construcci\u00f3n, que comienza con la palabra reservada **function** y termina con **end**. Aunque el indentado (o sangrado) no es necesario en Julia, se suele utilizar para dar claridad al c\u00f3digo."
     ]
    }
   ],
   "metadata": {}
  }
 ]
}